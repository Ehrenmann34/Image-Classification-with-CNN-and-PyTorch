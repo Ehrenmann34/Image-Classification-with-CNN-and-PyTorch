{
  "cells": [
    {
      "cell_type": "code",
      "execution_count": null,
      "metadata": {
        "colab": {},
        "colab_type": "code",
        "id": "Ikzholf6npFB"
      },
      "outputs": [],
      "source": []
    },
    {
      "cell_type": "markdown",
      "metadata": {
        "colab_type": "text",
        "id": "jN048Tfe6HWE"
      },
      "source": [
        "### Solving an Image Classification Problem using PyTorch"
      ]
    },
    {
      "cell_type": "code",
      "execution_count": 61,
      "metadata": {
        "colab": {
          "base_uri": "https://localhost:8080/",
          "height": 35
        },
        "colab_type": "code",
        "id": "hCne8SaG6HWF",
        "outputId": "b31fb3b7-26d1-48bf-9d76-3effc487f9c0"
      },
      "outputs": [],
      "source": [
        "from keras.datasets import fashion_mnist"
      ]
    },
    {
      "cell_type": "code",
      "execution_count": 62,
      "metadata": {
        "colab": {},
        "colab_type": "code",
        "id": "J6HfKprX6HWJ"
      },
      "outputs": [],
      "source": [
        "((trainX, trainY), (testX, testY)) = fashion_mnist.load_data()"
      ]
    },
    {
      "cell_type": "code",
      "execution_count": 63,
      "metadata": {
        "colab": {
          "base_uri": "https://localhost:8080/",
          "height": 88
        },
        "colab_type": "code",
        "id": "ki8tClH_6HWM",
        "outputId": "d45e82c5-0c69-4d33-a501-a5c86211d157"
      },
      "outputs": [
        {
          "name": "stdout",
          "output_type": "stream",
          "text": [
            "(60000, 28, 28)\n",
            "(60000,)\n",
            "(10000, 28, 28)\n",
            "(10000,)\n"
          ]
        }
      ],
      "source": [
        "print(trainX.shape)\n",
        "print(trainY.shape)\n",
        "print(testX.shape)\n",
        "print(testY.shape)"
      ]
    },
    {
      "cell_type": "code",
      "execution_count": null,
      "metadata": {
        "colab": {},
        "colab_type": "code",
        "id": "XMuGz--C6HWP"
      },
      "outputs": [],
      "source": []
    },
    {
      "cell_type": "markdown",
      "metadata": {
        "colab_type": "text",
        "id": "8rA6fp9K6HWX"
      },
      "source": [
        "### Visualizing the Images"
      ]
    },
    {
      "cell_type": "code",
      "execution_count": 64,
      "metadata": {
        "colab": {},
        "colab_type": "code",
        "id": "v2_sEtln6HWY"
      },
      "outputs": [],
      "source": [
        "# importing the libraries\n",
        "import pandas as pd\n",
        "import numpy as np\n",
        "\n",
        "# for reading and displaying images\n",
        "import matplotlib.pyplot as plt\n",
        "%matplotlib inline\n",
        "\n",
        "# for creating validation set\n",
        "from sklearn.model_selection import train_test_split\n",
        "\n",
        "# for evaluating the model\n",
        "from sklearn.metrics import accuracy_score\n",
        "# from tqdm import tqdm\n",
        "\n",
        "# PyTorch libraries and modules\n",
        "import torch\n",
        "from torch.autograd import Variable\n",
        "from torch.nn import Linear, ReLU, CrossEntropyLoss, Sequential, Conv2d, MaxPool2d, Module, Softmax, BatchNorm2d, Dropout\n",
        "from torch.optim import Adam, SGD"
      ]
    },
    {
      "cell_type": "code",
      "execution_count": 65,
      "metadata": {
        "colab": {
          "base_uri": "https://localhost:8080/",
          "height": 331
        },
        "colab_type": "code",
        "id": "_wMYGe8V6HWa",
        "outputId": "d54e699c-7dc3-4a66-d208-a43d205131ee"
      },
      "outputs": [
        {
          "data": {
            "text/plain": [
              "(<Axes: >, <matplotlib.image.AxesImage at 0x2a8d6e04700>)"
            ]
          },
          "execution_count": 65,
          "metadata": {},
          "output_type": "execute_result"
        },
        {
          "data": {
            "image/png": "[encoded data removed]",
            "text/plain": [
              "<Figure size 1000x1000 with 2 Axes>"
            ]
          },
          "metadata": {},
          "output_type": "display_data"
        }
      ],
      "source": [
        "import matplotlib.pyplot as plt\n",
        "\n",
        "# visualizing images\n",
        "plt.figure(figsize=(10,10))\n",
        "plt.subplot(221), plt.imshow(trainX[10])\n",
        "plt.subplot(222), plt.imshow(trainX[20])\n",
        "#plt.subplot(223), plt.imshow(trainX[i+50], cmap='gray')\n",
        "#plt.subplot(224), plt.imshow(trainX[i+75], cmap='gray')"
      ]
    },
    {
      "cell_type": "code",
      "execution_count": null,
      "metadata": {
        "colab": {},
        "colab_type": "code",
        "id": "5jlwskRs6HWR"
      },
      "outputs": [],
      "source": []
    },
    {
      "cell_type": "markdown",
      "metadata": {
        "colab_type": "text",
        "id": "XqyMEJwG6HWd"
      },
      "source": [
        "### Create validation set and preprocessing the images "
      ]
    },
    {
      "cell_type": "code",
      "execution_count": null,
      "metadata": {
        "colab": {},
        "colab_type": "code",
        "id": "9EoetaI4n2s0"
      },
      "outputs": [],
      "source": []
    },
    {
      "cell_type": "code",
      "execution_count": 66,
      "metadata": {
        "colab": {
          "base_uri": "https://localhost:8080/",
          "height": 35
        },
        "colab_type": "code",
        "id": "JLC1syKb6HWd",
        "outputId": "47bac5c2-8aba-43f3-ba6a-19b7cc7420d1"
      },
      "outputs": [
        {
          "data": {
            "text/plain": [
              "(((54000, 28, 28), (54000,)), ((6000, 28, 28), (6000,)))"
            ]
          },
          "execution_count": 66,
          "metadata": {},
          "output_type": "execute_result"
        }
      ],
      "source": [
        "train_x, val_x, train_y, val_y = train_test_split(trainX, trainY, test_size = 0.1)\n",
        "(train_x.shape, train_y.shape), (val_x.shape, val_y.shape)"
      ]
    },
    {
      "cell_type": "code",
      "execution_count": 67,
      "metadata": {
        "colab": {
          "base_uri": "https://localhost:8080/",
          "height": 35
        },
        "colab_type": "code",
        "id": "XMxAAbiK6HWg",
        "outputId": "af8360cd-21f7-4800-a799-f087a785d9e2"
      },
      "outputs": [
        {
          "data": {
            "text/plain": [
              "(torch.Size([54000, 1, 28, 28]), torch.Size([54000]))"
            ]
          },
          "execution_count": 67,
          "metadata": {},
          "output_type": "execute_result"
        }
      ],
      "source": [
        "# converting training images into torch format\n",
        "train_x = train_x.reshape(54000, 1, 28, 28)\n",
        "train_x  = torch.from_numpy(train_x)\n",
        "\n",
        "# converting the target into torch format\n",
        "train_y = train_y.astype(int)\n",
        "train_y = torch.from_numpy(train_y)\n",
        "\n",
        "# shape of training data\n",
        "train_x.shape, train_y.shape"
      ]
    },
    {
      "cell_type": "code",
      "execution_count": 68,
      "metadata": {
        "colab": {
          "base_uri": "https://localhost:8080/",
          "height": 35
        },
        "colab_type": "code",
        "id": "Uj8YDZ576HWl",
        "outputId": "5f800f98-438a-4869-c595-fd9bd1ecb32e"
      },
      "outputs": [
        {
          "data": {
            "text/plain": [
              "(torch.Size([6000, 1, 28, 28]), torch.Size([6000]))"
            ]
          },
          "execution_count": 68,
          "metadata": {},
          "output_type": "execute_result"
        }
      ],
      "source": [
        "# converting validation images into torch format\n",
        "val_x = val_x.reshape(6000, 1, 28, 28)\n",
        "val_x  = torch.from_numpy(val_x)\n",
        "\n",
        "# converting the target into torch format\n",
        "val_y = val_y.astype(int)\n",
        "val_y = torch.from_numpy(val_y)\n",
        "\n",
        "# shape of validation data\n",
        "val_x.shape, val_y.shape"
      ]
    },
    {
      "cell_type": "code",
      "execution_count": null,
      "metadata": {
        "colab": {},
        "colab_type": "code",
        "id": "H8t1w8YWn3x8"
      },
      "outputs": [],
      "source": []
    },
    {
      "cell_type": "markdown",
      "metadata": {
        "colab_type": "text",
        "id": "zHo92qWV6HWp"
      },
      "source": [
        "### CNN Model"
      ]
    },
    {
      "cell_type": "code",
      "execution_count": 69,
      "metadata": {
        "colab": {},
        "colab_type": "code",
        "id": "LE-wLhyP6HWs"
      },
      "outputs": [],
      "source": [
        "## Architecture\n",
        "\n",
        "class Net(Module):   \n",
        "    def __init__(self):\n",
        "        super(Net, self).__init__()\n",
        "\n",
        "        self.cnn_layers = Sequential(\n",
        "            # Defining a 2D convolution layer\n",
        "            Conv2d(1, 4, kernel_size=2, stride=1, padding=1),\n",
        "            BatchNorm2d(4),\n",
        "            ReLU(inplace=True),\n",
        "            MaxPool2d(kernel_size=2, stride=2),\n",
        "            # Defining another 2D convolution layer\n",
        "            Conv2d(4, 4, kernel_size=2, stride=1, padding=1),\n",
        "            BatchNorm2d(4),\n",
        "            ReLU(inplace=True),\n",
        "            MaxPool2d(kernel_size=2, stride=2)\n",
        "        )\n",
        "\n",
        "        self.linear_layers = Sequential(\n",
        "            Linear(4 * 7 * 7, 10)\n",
        "        )\n",
        "\n",
        "    # Defining the forward pass    \n",
        "    def forward(self, x):\n",
        "        x = self.cnn_layers(x)\n",
        "        x = x.view(x.size(0), -1)\n",
        "        x = self.linear_layers(x)\n",
        "        return x"
      ]
    },
    {
      "cell_type": "markdown",
      "metadata": {
        "colab_type": "text",
        "id": "o885aVbz6HWw"
      },
      "source": [
        "#### Let's now call the model, and define the optimizer and the loss function for the model "
      ]
    },
    {
      "cell_type": "code",
      "execution_count": 70,
      "metadata": {
        "colab": {
          "base_uri": "https://localhost:8080/",
          "height": 284
        },
        "colab_type": "code",
        "id": "OJ7n5Rc36HWw",
        "outputId": "8f0c0058-732a-46ff-a08f-b4e3eb4a7c13"
      },
      "outputs": [
        {
          "name": "stdout",
          "output_type": "stream",
          "text": [
            "Net(\n",
            "  (cnn_layers): Sequential(\n",
            "    (0): Conv2d(1, 4, kernel_size=(2, 2), stride=(1, 1), padding=(1, 1))\n",
            "    (1): BatchNorm2d(4, eps=1e-05, momentum=0.1, affine=True, track_running_stats=True)\n",
            "    (2): ReLU(inplace=True)\n",
            "    (3): MaxPool2d(kernel_size=2, stride=2, padding=0, dilation=1, ceil_mode=False)\n",
            "    (4): Conv2d(4, 4, kernel_size=(2, 2), stride=(1, 1), padding=(1, 1))\n",
            "    (5): BatchNorm2d(4, eps=1e-05, momentum=0.1, affine=True, track_running_stats=True)\n",
            "    (6): ReLU(inplace=True)\n",
            "    (7): MaxPool2d(kernel_size=2, stride=2, padding=0, dilation=1, ceil_mode=False)\n",
            "  )\n",
            "  (linear_layers): Sequential(\n",
            "    (0): Linear(in_features=196, out_features=10, bias=True)\n",
            "  )\n",
            ")\n"
          ]
        }
      ],
      "source": [
        "# define the model\n",
        "model = Net()\n",
        "# define the optimizer\n",
        "optimizer = Adam(model.parameters(), lr=0.07)\n",
        "# defining the loss function\n",
        "criterion = CrossEntropyLoss()\n",
        "# checking if GPU is available\n",
        "if torch.cuda.is_available():\n",
        "    model = model.cuda()\n",
        "    criterion = criterion.cuda()\n",
        "    \n",
        "print(model)"
      ]
    },
    {
      "cell_type": "code",
      "execution_count": 71,
      "metadata": {
        "colab": {},
        "colab_type": "code",
        "id": "hHnB5AnE6HW0"
      },
      "outputs": [],
      "source": [
        "## function to train the model\n",
        "\n",
        "def train(epoch):\n",
        "    model.train()\n",
        "    tr_loss = 0\n",
        "    # getting the training set\n",
        "    x_train, y_train = Variable(train_x), Variable(train_y)\n",
        "    # getting the validation set\n",
        "    x_val, y_val = Variable(val_x), Variable(val_y)\n",
        "    # converting the data into GPU format\n",
        "    if torch.cuda.is_available():\n",
        "        x_train = x_train.cuda()\n",
        "        y_train = y_train.cuda()\n",
        "        x_val = x_val.cuda()\n",
        "        y_val = y_val.cuda()\n",
        "\n",
        "    # clearing the Gradients of the model parameters\n",
        "    optimizer.zero_grad()\n",
        "    \n",
        "    # prediction for training and validation set\n",
        "    x_train = x_train.float()\n",
        "    x_val = x_val.float()\n",
        "    output_train = model(x_train)\n",
        "    output_val = model(x_val)\n",
        "\n",
        "    # Ensure that target tensors are of type torch.LongTensor\n",
        "    y_train = y_train.long()\n",
        "    y_val = y_val.long()\n",
        "\n",
        "    # computing the training and validation loss\n",
        "    loss_train = criterion(output_train, y_train)\n",
        "    loss_val = criterion(output_val, y_val)\n",
        "    train_losses.append(loss_train)\n",
        "    val_losses.append(loss_val)\n",
        "\n",
        "    # computing the updated weights of all the model parameters\n",
        "    loss_train.backward()\n",
        "    optimizer.step()\n",
        "    tr_loss = loss_train.item()\n",
        "    #if epoch%2 == 0:\n",
        "        # printing the validation loss\n",
        "    print('Epoch : ',epoch+1, '\\t', 'loss :', loss_val)"
      ]
    },
    {
      "cell_type": "code",
      "execution_count": 72,
      "metadata": {
        "colab": {
          "base_uri": "https://localhost:8080/",
          "height": 461
        },
        "colab_type": "code",
        "id": "u5-GOUCZ6HW4",
        "outputId": "2f243744-ad8f-4f19-c6f6-e41d46b9c9a0"
      },
      "outputs": [
        {
          "name": "stdout",
          "output_type": "stream",
          "text": [
            "Epoch :  1 \t loss : tensor(2.6310, grad_fn=<NllLossBackward0>)\n",
            "Epoch :  2 \t loss : tensor(6.2468, grad_fn=<NllLossBackward0>)\n",
            "Epoch :  3 \t loss : tensor(3.8711, grad_fn=<NllLossBackward0>)\n",
            "Epoch :  4 \t loss : tensor(2.5457, grad_fn=<NllLossBackward0>)\n",
            "Epoch :  5 \t loss : tensor(2.0254, grad_fn=<NllLossBackward0>)\n",
            "Epoch :  6 \t loss : tensor(1.9471, grad_fn=<NllLossBackward0>)\n",
            "Epoch :  7 \t loss : tensor(1.8314, grad_fn=<NllLossBackward0>)\n",
            "Epoch :  8 \t loss : tensor(1.6798, grad_fn=<NllLossBackward0>)\n",
            "Epoch :  9 \t loss : tensor(1.6356, grad_fn=<NllLossBackward0>)\n",
            "Epoch :  10 \t loss : tensor(1.5952, grad_fn=<NllLossBackward0>)\n",
            "Epoch :  11 \t loss : tensor(1.5379, grad_fn=<NllLossBackward0>)\n",
            "Epoch :  12 \t loss : tensor(1.4467, grad_fn=<NllLossBackward0>)\n",
            "Epoch :  13 \t loss : tensor(1.4107, grad_fn=<NllLossBackward0>)\n",
            "Epoch :  14 \t loss : tensor(1.3757, grad_fn=<NllLossBackward0>)\n",
            "Epoch :  15 \t loss : tensor(1.3217, grad_fn=<NllLossBackward0>)\n",
            "Epoch :  16 \t loss : tensor(1.2697, grad_fn=<NllLossBackward0>)\n",
            "Epoch :  17 \t loss : tensor(1.2371, grad_fn=<NllLossBackward0>)\n",
            "Epoch :  18 \t loss : tensor(1.2139, grad_fn=<NllLossBackward0>)\n",
            "Epoch :  19 \t loss : tensor(1.1858, grad_fn=<NllLossBackward0>)\n",
            "Epoch :  20 \t loss : tensor(1.1488, grad_fn=<NllLossBackward0>)\n",
            "Epoch :  21 \t loss : tensor(1.1057, grad_fn=<NllLossBackward0>)\n",
            "Epoch :  22 \t loss : tensor(1.0594, grad_fn=<NllLossBackward0>)\n",
            "Epoch :  23 \t loss : tensor(1.0120, grad_fn=<NllLossBackward0>)\n",
            "Epoch :  24 \t loss : tensor(0.9671, grad_fn=<NllLossBackward0>)\n",
            "Epoch :  25 \t loss : tensor(0.9284, grad_fn=<NllLossBackward0>)\n"
          ]
        }
      ],
      "source": [
        "# defining the number of epochs\n",
        "n_epochs = 25\n",
        "# empty list to store training losses\n",
        "train_losses = []\n",
        "# empty list to store validation losses\n",
        "val_losses = []\n",
        "# training the model\n",
        "for epoch in range(n_epochs):\n",
        "    train(epoch)"
      ]
    },
    {
      "cell_type": "code",
      "execution_count": 73,
      "metadata": {
        "colab": {
          "base_uri": "https://localhost:8080/",
          "height": 266
        },
        "colab_type": "code",
        "id": "6e1Orerv6HW6",
        "outputId": "82830ac7-4502-4fe0-b6a6-413dc4cf959e"
      },
      "outputs": [
        {
          "data": {
            "image/png": "[encoded data removed]",
            "text/plain": [
              "<Figure size 640x480 with 1 Axes>"
            ]
          },
          "metadata": {},
          "output_type": "display_data"
        }
      ],
      "source": [
        "# plotting the training and validation loss\n",
        "plt.plot([loss.detach().numpy() for loss in train_losses], label='Training loss')\n",
        "plt.plot([loss.detach().numpy() for loss in val_losses], label='Validation loss')\n",
        "plt.legend()\n",
        "plt.show()"
      ]
    },
    {
      "cell_type": "code",
      "execution_count": 74,
      "metadata": {
        "colab": {
          "base_uri": "https://localhost:8080/",
          "height": 35
        },
        "colab_type": "code",
        "id": "lo3iOS956HW7",
        "outputId": "7ae44c6e-1816-4bb5-c8e7-3dd8d4946f0b"
      },
      "outputs": [
        {
          "data": {
            "text/plain": [
              "0.6885370370370371"
            ]
          },
          "execution_count": 74,
          "metadata": {},
          "output_type": "execute_result"
        }
      ],
      "source": [
        "# prediction for training set\n",
        "with torch.no_grad():\n",
        "    train_x = train_x.float()\n",
        "    output = model(train_x)\n",
        "    \n",
        "softmax = torch.exp(output).cpu()\n",
        "prob = list(softmax.numpy())\n",
        "predictions = np.argmax(prob, axis=1)\n",
        "\n",
        "# accuracy on training set\n",
        "accuracy_score(train_y, predictions)"
      ]
    },
    {
      "cell_type": "code",
      "execution_count": 75,
      "metadata": {
        "colab": {
          "base_uri": "https://localhost:8080/",
          "height": 35
        },
        "colab_type": "code",
        "id": "AtW6aOJd6HW9",
        "outputId": "911eda16-efc4-4c11-db1d-fb88ba222ef2"
      },
      "outputs": [
        {
          "data": {
            "text/plain": [
              "0.6918333333333333"
            ]
          },
          "execution_count": 75,
          "metadata": {},
          "output_type": "execute_result"
        }
      ],
      "source": [
        "# prediction for validation set\n",
        "with torch.no_grad():\n",
        "    val_x = val_x.float()\n",
        "    output = model(val_x)\n",
        "\n",
        "softmax = torch.exp(output).cpu()\n",
        "prob = list(softmax.numpy())\n",
        "predictions = np.argmax(prob, axis=1)\n",
        "\n",
        "# accuracy on validation set\n",
        "accuracy_score(val_y, predictions)"
      ]
    },
    {
      "cell_type": "code",
      "execution_count": 76,
      "metadata": {
        "colab": {
          "base_uri": "https://localhost:8080/",
          "height": 35
        },
        "colab_type": "code",
        "id": "apieqs9t6HW_",
        "outputId": "41eab467-1f3c-42ce-9eaa-ba118c7102ab"
      },
      "outputs": [
        {
          "data": {
            "text/plain": [
              "(10000, 28, 28)"
            ]
          },
          "execution_count": 76,
          "metadata": {},
          "output_type": "execute_result"
        }
      ],
      "source": [
        "testX.shape"
      ]
    },
    {
      "cell_type": "code",
      "execution_count": 77,
      "metadata": {
        "colab": {
          "base_uri": "https://localhost:8080/",
          "height": 72
        },
        "colab_type": "code",
        "id": "XAr7fpwz6HXB",
        "outputId": "8d6d0e33-a219-47e8-ad08-cc8779216d55"
      },
      "outputs": [
        {
          "data": {
            "text/plain": [
              "torch.Size([10000, 1, 28, 28])"
            ]
          },
          "execution_count": 77,
          "metadata": {},
          "output_type": "execute_result"
        }
      ],
      "source": [
        "test_x = testX.reshape(10000, 1, 28, 28)\n",
        "test_x  = torch.from_numpy(test_x)\n",
        "test_x.shape"
      ]
    },
    {
      "cell_type": "code",
      "execution_count": 78,
      "metadata": {
        "colab": {},
        "colab_type": "code",
        "id": "b9Qj4Loy6HXD"
      },
      "outputs": [],
      "source": [
        "# generating predictions for test set\n",
        "with torch.no_grad():\n",
        "    test_x = test_x.float()\n",
        "    output = model(test_x)\n",
        "\n",
        "softmax = torch.exp(output).cpu()\n",
        "prob = list(softmax.numpy())\n",
        "predictions = np.argmax(prob, axis=1)"
      ]
    },
    {
      "cell_type": "code",
      "execution_count": 79,
      "metadata": {
        "colab": {},
        "colab_type": "code",
        "id": "n2Hg0XFY6HXE"
      },
      "outputs": [],
      "source": [
        "test_y = testY.astype(int);\n",
        "test_y = torch.from_numpy(test_y)"
      ]
    },
    {
      "cell_type": "code",
      "execution_count": 80,
      "metadata": {
        "colab": {
          "base_uri": "https://localhost:8080/",
          "height": 35
        },
        "colab_type": "code",
        "id": "YjRMcAW26HXF",
        "outputId": "83744c51-434a-47ed-df99-8a916093ef8c"
      },
      "outputs": [
        {
          "data": {
            "text/plain": [
              "0.6787"
            ]
          },
          "execution_count": 80,
          "metadata": {},
          "output_type": "execute_result"
        }
      ],
      "source": [
        "accuracy_score(test_y, predictions)"
      ]
    }
  ],
  "metadata": {
    "colab": {
      "name": "CNN Image Classification wIth PyTorch.ipynb",
      "provenance": [],
      "toc_visible": true
    },
    "kernelspec": {
      "display_name": "Python 3",
      "name": "python3"
    },
    "language_info": {
      "codemirror_mode": {
        "name": "ipython",
        "version": 3
      },
      "file_extension": ".py",
      "mimetype": "text/x-python",
      "name": "python",
      "nbconvert_exporter": "python",
      "pygments_lexer": "ipython3",
      "version": "3.10.11"
    }
  },
  "nbformat": 4,
  "nbformat_minor": 0
}
